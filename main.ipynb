{
 "cells": [
  {
   "cell_type": "code",
   "execution_count": 1,
   "metadata": {},
   "outputs": [],
   "source": [
    "from AEF import AEF\n",
    "import utils"
   ]
  },
  {
   "cell_type": "code",
   "execution_count": 3,
   "metadata": {},
   "outputs": [
    {
     "name": "stdout",
     "output_type": "stream",
     "text": [
      "['a', 'b', 'c']\n",
      "AEF :\n",
      "   - alphabet   : '['a', 'b', 'c']'\n",
      "   - initial       : ['1', '2']\n",
      "   - finals     : ['4']\n",
      "   - états (4) :\n",
      "       - (1):\n",
      "          --(a)--> (1)\n",
      "          --(a)--> (3)\n",
      "       - (2):\n",
      "          --(b)--> (2)\n",
      "          --(b)--> (3)\n",
      "       - (3):\n",
      "          --(c)--> (3)\n",
      "          --(c)--> (4)\n",
      "       - (4).\n",
      "\n"
     ]
    }
   ],
   "source": [
    "from AEF import AEF\n",
    "import utils\n",
    "a = AEF([\"a\", \"b\", \"c\"])\n",
    "\n",
    "a.ajout_etat(\"1\",initial=True)\n",
    "a.ajout_etat(\"2\",initial=True)\n",
    "a.ajout_etat(\"3\")\n",
    "a.ajout_etat(\"4\", final=True)\n",
    "\n",
    "\n",
    "a.ajout_transition(\"1\", \"a\", \"1\")\n",
    "a.ajout_transition(\"1\", \"a\", \"3\")\n",
    "a.ajout_transition(\"2\", \"b\", \"2\")\n",
    "a.ajout_transition(\"2\", \"b\", \"3\")\n",
    "a.ajout_transition(\"3\", \"c\", \"3\")\n",
    "a.ajout_transition(\"3\", \"c\", \"4\")\n",
    "\n",
    "\n",
    "utils.save(a,\"./save/11.aef\")\n",
    "a=utils.read(\"./save/11.aef\")\n",
    "utils.to_png(a,filename=\"./save/11.png\",nom=\"aaa\")\n",
    "utils.to_pdf(a,filename=\"./save/11.pdf\",nom=\"aaa\")\n",
    "print(a)\n",
    "b=a.determinisation()\n",
    "# print(b)\n",
    "utils.to_png(b,filename=\"./save/11d.png\",nom=\"aaa\")\n"
   ]
  },
  {
   "cell_type": "code",
   "execution_count": 9,
   "metadata": {},
   "outputs": [
    {
     "data": {
      "text/plain": [
       "['1', '2']"
      ]
     },
     "execution_count": 9,
     "metadata": {},
     "output_type": "execute_result"
    }
   ],
   "source": [
    "A = [\"1\",\"2\",\"3\",\"4\"]\n",
    "B= [\"3\",\"4\"]\n",
    "C= list(set(A)-set(B))\n",
    "C"
   ]
  }
 ],
 "metadata": {
  "kernelspec": {
   "display_name": "Python 3",
   "language": "python",
   "name": "python3"
  },
  "language_info": {
   "codemirror_mode": {
    "name": "ipython",
    "version": 3
   },
   "file_extension": ".py",
   "mimetype": "text/x-python",
   "name": "python",
   "nbconvert_exporter": "python",
   "pygments_lexer": "ipython3",
   "version": "3.10.12"
  }
 },
 "nbformat": 4,
 "nbformat_minor": 2
}
